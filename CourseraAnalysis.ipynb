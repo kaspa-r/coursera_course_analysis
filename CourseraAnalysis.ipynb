{
 "cells": [
  {
   "cell_type": "markdown",
   "metadata": {},
   "source": [
    "# Coursera Data Analysis"
   ]
  },
  {
   "cell_type": "code",
   "execution_count": 1,
   "metadata": {},
   "outputs": [],
   "source": [
    "import pandas as pd\n",
    "import numpy as np \n",
    "import seaborn as sns\n",
    "import datetime as dt\n",
    "import regex as re\n",
    "import matplotlib.pyplot as plt\n",
    "from ipywidgets import interactive\n",
    "import ipywidgets as widgets\n",
    "from scipy.stats import pearsonr\n",
    "\n",
    "pd.set_option('display.max_columns', None)\n",
    "pd.set_option('display.max_rows', None)\n",
    "%matplotlib inline\n",
    "sns.set_style('whitegrid')"
   ]
  },
  {
   "cell_type": "markdown",
   "metadata": {},
   "source": [
    "`Notes`: \n",
    "* Export the notebook to HTML \n",
    "* Average number of students per course.\n",
    "* Plotly is way better for interactive charts"
   ]
  },
  {
   "cell_type": "markdown",
   "metadata": {},
   "source": [
    "### Table of Contents\n",
    "* Data Input & Preparation\n",
    "* Exploratory Data Analysis\n",
    "* Conclusions\n",
    "* Improvement Points\n",
    "* Appendix"
   ]
  },
  {
   "cell_type": "markdown",
   "metadata": {},
   "source": [
    "***** \n",
    "## Data Input & Preparation"
   ]
  },
  {
   "cell_type": "code",
   "execution_count": 2,
   "metadata": {},
   "outputs": [
    {
     "data": {
      "text/html": [
       "<div>\n",
       "<style scoped>\n",
       "    .dataframe tbody tr th:only-of-type {\n",
       "        vertical-align: middle;\n",
       "    }\n",
       "\n",
       "    .dataframe tbody tr th {\n",
       "        vertical-align: top;\n",
       "    }\n",
       "\n",
       "    .dataframe thead th {\n",
       "        text-align: right;\n",
       "    }\n",
       "</style>\n",
       "<table border=\"1\" class=\"dataframe\">\n",
       "  <thead>\n",
       "    <tr style=\"text-align: right;\">\n",
       "      <th></th>\n",
       "      <th>title</th>\n",
       "      <th>organization</th>\n",
       "      <th>certificate_type</th>\n",
       "      <th>rating</th>\n",
       "      <th>difficulty</th>\n",
       "      <th>students_enrolled</th>\n",
       "    </tr>\n",
       "  </thead>\n",
       "  <tbody>\n",
       "    <tr>\n",
       "      <th>134</th>\n",
       "      <td>(ISC)² Systems Security Certified Practitioner...</td>\n",
       "      <td>(ISC)²</td>\n",
       "      <td>SPECIALIZATION</td>\n",
       "      <td>4.7</td>\n",
       "      <td>Beginner</td>\n",
       "      <td>5.3k</td>\n",
       "    </tr>\n",
       "    <tr>\n",
       "      <th>743</th>\n",
       "      <td>A Crash Course in Causality:  Inferring Causal...</td>\n",
       "      <td>University of Pennsylvania</td>\n",
       "      <td>COURSE</td>\n",
       "      <td>4.7</td>\n",
       "      <td>Intermediate</td>\n",
       "      <td>17k</td>\n",
       "    </tr>\n",
       "    <tr>\n",
       "      <th>874</th>\n",
       "      <td>A Crash Course in Data Science</td>\n",
       "      <td>Johns Hopkins University</td>\n",
       "      <td>COURSE</td>\n",
       "      <td>4.5</td>\n",
       "      <td>Mixed</td>\n",
       "      <td>130k</td>\n",
       "    </tr>\n",
       "    <tr>\n",
       "      <th>413</th>\n",
       "      <td>A Law Student's Toolkit</td>\n",
       "      <td>Yale University</td>\n",
       "      <td>COURSE</td>\n",
       "      <td>4.7</td>\n",
       "      <td>Mixed</td>\n",
       "      <td>91k</td>\n",
       "    </tr>\n",
       "    <tr>\n",
       "      <th>635</th>\n",
       "      <td>A Life of Happiness and Fulfillment</td>\n",
       "      <td>Indian School of Business</td>\n",
       "      <td>COURSE</td>\n",
       "      <td>4.8</td>\n",
       "      <td>Mixed</td>\n",
       "      <td>320k</td>\n",
       "    </tr>\n",
       "  </tbody>\n",
       "</table>\n",
       "</div>"
      ],
      "text/plain": [
       "                                                 title   \n",
       "134  (ISC)² Systems Security Certified Practitioner...  \\\n",
       "743  A Crash Course in Causality:  Inferring Causal...   \n",
       "874                     A Crash Course in Data Science   \n",
       "413                            A Law Student's Toolkit   \n",
       "635                A Life of Happiness and Fulfillment   \n",
       "\n",
       "                   organization certificate_type  rating    difficulty   \n",
       "134                      (ISC)²   SPECIALIZATION     4.7      Beginner  \\\n",
       "743  University of Pennsylvania           COURSE     4.7  Intermediate   \n",
       "874    Johns Hopkins University           COURSE     4.5         Mixed   \n",
       "413             Yale University           COURSE     4.7         Mixed   \n",
       "635   Indian School of Business           COURSE     4.8         Mixed   \n",
       "\n",
       "    students_enrolled  \n",
       "134              5.3k  \n",
       "743               17k  \n",
       "874              130k  \n",
       "413               91k  \n",
       "635              320k  "
      ]
     },
     "execution_count": 2,
     "metadata": {},
     "output_type": "execute_result"
    }
   ],
   "source": [
    "coursera_data = pd.read_csv('coursea_data.csv', index_col=0)\n",
    "coursera_data.columns = coursera_data.columns.str.replace('course_', '')\\\n",
    "                                             .str.lower()\n",
    "coursera_data.head()"
   ]
  },
  {
   "cell_type": "markdown",
   "metadata": {},
   "source": [
    "Let's capitalize the `difficulty` column to make it in line with the `certificate_type` column:"
   ]
  },
  {
   "cell_type": "code",
   "execution_count": 3,
   "metadata": {},
   "outputs": [],
   "source": [
    "coursera_data.difficulty = coursera_data.difficulty.str.upper()"
   ]
  },
  {
   "cell_type": "markdown",
   "metadata": {},
   "source": [
    "Notice, that the `students_enrolled` column has string values of the enrolled numbers of students for each course. Let's create raw numbers but before checking for all combinations of the string multipliers (e.g. k, m):"
   ]
  },
  {
   "cell_type": "code",
   "execution_count": 4,
   "metadata": {},
   "outputs": [
    {
     "name": "stdout",
     "output_type": "stream",
     "text": [
      "['k' 'm']\n"
     ]
    }
   ],
   "source": [
    "print(coursera_data.students_enrolled.str[-1].unique())"
   ]
  },
  {
   "cell_type": "code",
   "execution_count": 5,
   "metadata": {},
   "outputs": [],
   "source": [
    "def students_timed(value):\n",
    "    if value[-1] == 'k':\n",
    "        return int(float(value[:-1]) * 1000)\n",
    "    else:\n",
    "        return int(float(value[:-1]) * 1000000)\n",
    "    \n",
    "coursera_data['students_enrolled'] = coursera_data.students_enrolled.apply(lambda x : students_timed(x))"
   ]
  },
  {
   "cell_type": "markdown",
   "metadata": {},
   "source": [
    "Nice! We have the raw numbers for the `students_enrolled` variable. \n",
    "\n",
    "But if you notice, some organizations are official learning institutions (e.g. `University of Pennsylvania`), whereas others - companies that have released courses (e.g. (ISC)²). Let's create a dummy that indicates whether the institution is an official learning institution, or not (obviously, to the best of my knowledge):"
   ]
  },
  {
   "cell_type": "code",
   "execution_count": 6,
   "metadata": {},
   "outputs": [
    {
     "data": {
      "text/html": [
       "<div>\n",
       "<style scoped>\n",
       "    .dataframe tbody tr th:only-of-type {\n",
       "        vertical-align: middle;\n",
       "    }\n",
       "\n",
       "    .dataframe tbody tr th {\n",
       "        vertical-align: top;\n",
       "    }\n",
       "\n",
       "    .dataframe thead th {\n",
       "        text-align: right;\n",
       "    }\n",
       "</style>\n",
       "<table border=\"1\" class=\"dataframe\">\n",
       "  <thead>\n",
       "    <tr style=\"text-align: right;\">\n",
       "      <th></th>\n",
       "      <th>title</th>\n",
       "      <th>organization</th>\n",
       "      <th>certificate_type</th>\n",
       "      <th>rating</th>\n",
       "      <th>difficulty</th>\n",
       "      <th>students_enrolled</th>\n",
       "      <th>official_learning_institution</th>\n",
       "    </tr>\n",
       "  </thead>\n",
       "  <tbody>\n",
       "    <tr>\n",
       "      <th>134</th>\n",
       "      <td>(ISC)² Systems Security Certified Practitioner...</td>\n",
       "      <td>(ISC)²</td>\n",
       "      <td>SPECIALIZATION</td>\n",
       "      <td>4.7</td>\n",
       "      <td>BEGINNER</td>\n",
       "      <td>5300</td>\n",
       "      <td>False</td>\n",
       "    </tr>\n",
       "  </tbody>\n",
       "</table>\n",
       "</div>"
      ],
      "text/plain": [
       "                                                 title organization   \n",
       "134  (ISC)² Systems Security Certified Practitioner...       (ISC)²  \\\n",
       "\n",
       "    certificate_type  rating difficulty  students_enrolled   \n",
       "134   SPECIALIZATION     4.7   BEGINNER               5300  \\\n",
       "\n",
       "     official_learning_institution  \n",
       "134                          False  "
      ]
     },
     "execution_count": 6,
     "metadata": {},
     "output_type": "execute_result"
    }
   ],
   "source": [
    "coursera_data['official_learning_institution'] = coursera_data.organization.\\\n",
    "    str.contains('University|School|Universidad|École|INSEAD|Universitat|Università|Universidade|Sciences Po|College|HEC Paris|Universität')\n",
    "\n",
    "coursera_data.head(1)"
   ]
  },
  {
   "cell_type": "markdown",
   "metadata": {},
   "source": [
    "Lastly, what if the more courses the organization creates - the more succesfull their courses become due to the sheer experience of making courses. \n",
    "\n",
    "Let's create a column that would indicate how many courses an organization has in the Coursera database"
   ]
  },
  {
   "cell_type": "code",
   "execution_count": 7,
   "metadata": {},
   "outputs": [
    {
     "data": {
      "text/html": [
       "<div>\n",
       "<style scoped>\n",
       "    .dataframe tbody tr th:only-of-type {\n",
       "        vertical-align: middle;\n",
       "    }\n",
       "\n",
       "    .dataframe tbody tr th {\n",
       "        vertical-align: top;\n",
       "    }\n",
       "\n",
       "    .dataframe thead th {\n",
       "        text-align: right;\n",
       "    }\n",
       "</style>\n",
       "<table border=\"1\" class=\"dataframe\">\n",
       "  <thead>\n",
       "    <tr style=\"text-align: right;\">\n",
       "      <th></th>\n",
       "      <th>title</th>\n",
       "      <th>organization</th>\n",
       "      <th>certificate_type</th>\n",
       "      <th>rating</th>\n",
       "      <th>difficulty</th>\n",
       "      <th>students_enrolled</th>\n",
       "      <th>official_learning_institution</th>\n",
       "      <th>total_nr_of_courses</th>\n",
       "    </tr>\n",
       "  </thead>\n",
       "  <tbody>\n",
       "    <tr>\n",
       "      <th>134</th>\n",
       "      <td>(ISC)² Systems Security Certified Practitioner...</td>\n",
       "      <td>(ISC)²</td>\n",
       "      <td>SPECIALIZATION</td>\n",
       "      <td>4.7</td>\n",
       "      <td>BEGINNER</td>\n",
       "      <td>5300</td>\n",
       "      <td>False</td>\n",
       "      <td>3</td>\n",
       "    </tr>\n",
       "    <tr>\n",
       "      <th>612</th>\n",
       "      <td>Access Controls</td>\n",
       "      <td>(ISC)²</td>\n",
       "      <td>COURSE</td>\n",
       "      <td>4.6</td>\n",
       "      <td>BEGINNER</td>\n",
       "      <td>2900</td>\n",
       "      <td>False</td>\n",
       "      <td>3</td>\n",
       "    </tr>\n",
       "    <tr>\n",
       "      <th>856</th>\n",
       "      <td>Identifying, Monitoring, and Analyzing Risk an...</td>\n",
       "      <td>(ISC)²</td>\n",
       "      <td>COURSE</td>\n",
       "      <td>4.9</td>\n",
       "      <td>BEGINNER</td>\n",
       "      <td>1700</td>\n",
       "      <td>False</td>\n",
       "      <td>3</td>\n",
       "    </tr>\n",
       "  </tbody>\n",
       "</table>\n",
       "</div>"
      ],
      "text/plain": [
       "                                                 title organization   \n",
       "134  (ISC)² Systems Security Certified Practitioner...       (ISC)²  \\\n",
       "612                                    Access Controls       (ISC)²   \n",
       "856  Identifying, Monitoring, and Analyzing Risk an...       (ISC)²   \n",
       "\n",
       "    certificate_type  rating difficulty  students_enrolled   \n",
       "134   SPECIALIZATION     4.7   BEGINNER               5300  \\\n",
       "612           COURSE     4.6   BEGINNER               2900   \n",
       "856           COURSE     4.9   BEGINNER               1700   \n",
       "\n",
       "     official_learning_institution  total_nr_of_courses  \n",
       "134                          False                    3  \n",
       "612                          False                    3  \n",
       "856                          False                    3  "
      ]
     },
     "execution_count": 7,
     "metadata": {},
     "output_type": "execute_result"
    }
   ],
   "source": [
    "def get_grouped_table(category_to_be_grouped_on, widget2_value, widget3_value = 10):\n",
    "\n",
    "      renaming_dict = {'students_enrolled' : 'total_students_enrolled',\n",
    "                       'rating' : 'mean_rating',\n",
    "                       'title' : 'total_nr_of_courses'}\n",
    "\n",
    "      grouped_table = coursera_data.groupby([category_to_be_grouped_on])\\\n",
    "            .agg({'students_enrolled' : 'sum',\n",
    "                  'rating' : 'mean',\n",
    "                  'title' : 'count'})\n",
    "      \n",
    "      \n",
    "      if widget2_value == 'rating' and category_to_be_grouped_on == 'organization':\n",
    "            grouped_table = grouped_table[grouped_table.title > 5]\n",
    "      \n",
    "      top_category_by_metric = grouped_table.sort_values(by = widget2_value, ascending=False).head(widget3_value)\\\n",
    "                                            .rename(renaming_dict, axis = 1)\n",
    "      return top_category_by_metric, renaming_dict.get(widget2_value)\n",
    "\n",
    "orgs_nr_of_courses = get_grouped_table('organization', 'title', 154)[0]\n",
    "\n",
    "coursera_data = pd.merge(coursera_data,\n",
    "                         orgs_nr_of_courses['total_nr_of_courses'],\n",
    "                         how = 'inner',\n",
    "                         left_on = 'organization', right_index = True)\n",
    "coursera_data.head(3)"
   ]
  },
  {
   "cell_type": "markdown",
   "metadata": {},
   "source": [
    "Having done initial data clean up, let's dive into the number of null, unique values\n",
    "\n",
    "First, how many null values do we have for each column?"
   ]
  },
  {
   "cell_type": "code",
   "execution_count": 8,
   "metadata": {},
   "outputs": [
    {
     "data": {
      "text/plain": [
       "title                            0\n",
       "organization                     0\n",
       "certificate_type                 0\n",
       "rating                           0\n",
       "difficulty                       0\n",
       "students_enrolled                0\n",
       "official_learning_institution    0\n",
       "total_nr_of_courses              0\n",
       "dtype: int64"
      ]
     },
     "execution_count": 8,
     "metadata": {},
     "output_type": "execute_result"
    }
   ],
   "source": [
    "coursera_data.isna().sum()"
   ]
  },
  {
   "cell_type": "markdown",
   "metadata": {},
   "source": [
    "Great! It seems we have no null values in any of the columns. What about unique titles for the names of the courses? If we have multiple courses that have the same name, we should use a `title`-`organization` axis to determine unique courses."
   ]
  },
  {
   "cell_type": "code",
   "execution_count": 9,
   "metadata": {},
   "outputs": [
    {
     "name": "stdout",
     "output_type": "stream",
     "text": [
      "These are the duplicated titles: ['Machine Learning' 'Developing Your Musicianship' 'Marketing Digital'].\n",
      "Here are their values:\n"
     ]
    },
    {
     "data": {
      "text/html": [
       "<div>\n",
       "<style scoped>\n",
       "    .dataframe tbody tr th:only-of-type {\n",
       "        vertical-align: middle;\n",
       "    }\n",
       "\n",
       "    .dataframe tbody tr th {\n",
       "        vertical-align: top;\n",
       "    }\n",
       "\n",
       "    .dataframe thead th {\n",
       "        text-align: right;\n",
       "    }\n",
       "</style>\n",
       "<table border=\"1\" class=\"dataframe\">\n",
       "  <thead>\n",
       "    <tr style=\"text-align: right;\">\n",
       "      <th></th>\n",
       "      <th>title</th>\n",
       "      <th>organization</th>\n",
       "      <th>certificate_type</th>\n",
       "      <th>rating</th>\n",
       "      <th>difficulty</th>\n",
       "      <th>students_enrolled</th>\n",
       "      <th>official_learning_institution</th>\n",
       "      <th>total_nr_of_courses</th>\n",
       "    </tr>\n",
       "  </thead>\n",
       "  <tbody>\n",
       "    <tr>\n",
       "      <th>6</th>\n",
       "      <td>Machine Learning</td>\n",
       "      <td>Stanford University</td>\n",
       "      <td>COURSE</td>\n",
       "      <td>4.9</td>\n",
       "      <td>MIXED</td>\n",
       "      <td>3200000</td>\n",
       "      <td>True</td>\n",
       "      <td>16</td>\n",
       "    </tr>\n",
       "    <tr>\n",
       "      <th>325</th>\n",
       "      <td>Marketing Digital</td>\n",
       "      <td>Universidad Austral</td>\n",
       "      <td>SPECIALIZATION</td>\n",
       "      <td>4.7</td>\n",
       "      <td>BEGINNER</td>\n",
       "      <td>39000</td>\n",
       "      <td>True</td>\n",
       "      <td>4</td>\n",
       "    </tr>\n",
       "    <tr>\n",
       "      <th>181</th>\n",
       "      <td>Machine Learning</td>\n",
       "      <td>University of Washington</td>\n",
       "      <td>SPECIALIZATION</td>\n",
       "      <td>4.6</td>\n",
       "      <td>INTERMEDIATE</td>\n",
       "      <td>290000</td>\n",
       "      <td>True</td>\n",
       "      <td>5</td>\n",
       "    </tr>\n",
       "    <tr>\n",
       "      <th>756</th>\n",
       "      <td>Developing Your Musicianship</td>\n",
       "      <td>Berklee College of Music</td>\n",
       "      <td>COURSE</td>\n",
       "      <td>4.8</td>\n",
       "      <td>MIXED</td>\n",
       "      <td>41000</td>\n",
       "      <td>True</td>\n",
       "      <td>14</td>\n",
       "    </tr>\n",
       "    <tr>\n",
       "      <th>205</th>\n",
       "      <td>Developing Your Musicianship</td>\n",
       "      <td>Berklee College of Music</td>\n",
       "      <td>SPECIALIZATION</td>\n",
       "      <td>4.8</td>\n",
       "      <td>BEGINNER</td>\n",
       "      <td>54000</td>\n",
       "      <td>True</td>\n",
       "      <td>14</td>\n",
       "    </tr>\n",
       "    <tr>\n",
       "      <th>241</th>\n",
       "      <td>Marketing Digital</td>\n",
       "      <td>Universidade de São Paulo</td>\n",
       "      <td>COURSE</td>\n",
       "      <td>4.8</td>\n",
       "      <td>BEGINNER</td>\n",
       "      <td>81000</td>\n",
       "      <td>True</td>\n",
       "      <td>3</td>\n",
       "    </tr>\n",
       "  </tbody>\n",
       "</table>\n",
       "</div>"
      ],
      "text/plain": [
       "                            title               organization certificate_type   \n",
       "6                Machine Learning        Stanford University           COURSE  \\\n",
       "325             Marketing Digital        Universidad Austral   SPECIALIZATION   \n",
       "181              Machine Learning   University of Washington   SPECIALIZATION   \n",
       "756  Developing Your Musicianship   Berklee College of Music           COURSE   \n",
       "205  Developing Your Musicianship   Berklee College of Music   SPECIALIZATION   \n",
       "241             Marketing Digital  Universidade de São Paulo           COURSE   \n",
       "\n",
       "     rating    difficulty  students_enrolled  official_learning_institution   \n",
       "6       4.9         MIXED            3200000                           True  \\\n",
       "325     4.7      BEGINNER              39000                           True   \n",
       "181     4.6  INTERMEDIATE             290000                           True   \n",
       "756     4.8         MIXED              41000                           True   \n",
       "205     4.8      BEGINNER              54000                           True   \n",
       "241     4.8      BEGINNER              81000                           True   \n",
       "\n",
       "     total_nr_of_courses  \n",
       "6                     16  \n",
       "325                    4  \n",
       "181                    5  \n",
       "756                   14  \n",
       "205                   14  \n",
       "241                    3  "
      ]
     },
     "execution_count": 9,
     "metadata": {},
     "output_type": "execute_result"
    }
   ],
   "source": [
    "duplicated_titles = coursera_data[coursera_data.title.duplicated()].title.values\n",
    "print(f\"These are the duplicated titles: {duplicated_titles}.\\nHere are their values:\")\n",
    "coursera_data[coursera_data.title.isin(duplicated_titles)]"
   ]
  },
  {
   "cell_type": "markdown",
   "metadata": {},
   "source": [
    "From this, we can see that generally, all titles are unique bar the 3 titles stated above. However, two of these titles have different organizations that created the courses, which makes me think that we can treat these as separate courses (especially as the titles are generally broad and common e.g. \"Marketing Digital\"). However, we can't say the same about the `Developing Your Musicianship` course from `Berklee College of Music`. Although, they do have different `certificate_types` and `difficulties`, which indicates that they are separate courses. We will go with the latter assumption. Additionally, maybe this would be an interesting test case for identifying how `certificate_types` and `difficulties` affect `rating` & `students_enrolled` controlling for other values in the dataset.\n",
    "\n",
    "What about the number of unique values in the other columns?"
   ]
  },
  {
   "cell_type": "code",
   "execution_count": 10,
   "metadata": {},
   "outputs": [
    {
     "data": {
      "text/plain": [
       "title                            888\n",
       "organization                     154\n",
       "certificate_type                   3\n",
       "rating                            14\n",
       "difficulty                         4\n",
       "students_enrolled                205\n",
       "official_learning_institution      2\n",
       "total_nr_of_courses               23\n",
       "dtype: int64"
      ]
     },
     "execution_count": 10,
     "metadata": {},
     "output_type": "execute_result"
    }
   ],
   "source": [
    "coursera_data.apply(lambda col : col.nunique())"
   ]
  },
  {
   "cell_type": "markdown",
   "metadata": {},
   "source": [
    "Alright, we have 154 unique organizations that have created courses in this dataset. There are 3 & 4 unique values in the `certificate_type` and `difficulty` metrics, which correspond to the categories we will see later. There's 205 unique values for the enrolled students number, which makes sense. But interestingly, there's only 14 unique values for the `rating` metric. For a supposedly continuous variable, this lack of variety is surprising. This may create difficulties in extracting an unbiased quality metric from the `rating` variable. What about the distribution of the numeric metrics?"
   ]
  },
  {
   "cell_type": "code",
   "execution_count": 11,
   "metadata": {},
   "outputs": [
    {
     "data": {
      "text/html": [
       "<div>\n",
       "<style scoped>\n",
       "    .dataframe tbody tr th:only-of-type {\n",
       "        vertical-align: middle;\n",
       "    }\n",
       "\n",
       "    .dataframe tbody tr th {\n",
       "        vertical-align: top;\n",
       "    }\n",
       "\n",
       "    .dataframe thead th {\n",
       "        text-align: right;\n",
       "    }\n",
       "</style>\n",
       "<table border=\"1\" class=\"dataframe\">\n",
       "  <thead>\n",
       "    <tr style=\"text-align: right;\">\n",
       "      <th></th>\n",
       "      <th>rating</th>\n",
       "      <th>students_enrolled</th>\n",
       "      <th>total_nr_of_courses</th>\n",
       "    </tr>\n",
       "  </thead>\n",
       "  <tbody>\n",
       "    <tr>\n",
       "      <th>count</th>\n",
       "      <td>891.000000</td>\n",
       "      <td>8.910000e+02</td>\n",
       "      <td>891.000000</td>\n",
       "    </tr>\n",
       "    <tr>\n",
       "      <th>mean</th>\n",
       "      <td>4.677329</td>\n",
       "      <td>9.055208e+04</td>\n",
       "      <td>16.737374</td>\n",
       "    </tr>\n",
       "    <tr>\n",
       "      <th>std</th>\n",
       "      <td>0.162225</td>\n",
       "      <td>1.819365e+05</td>\n",
       "      <td>15.506887</td>\n",
       "    </tr>\n",
       "    <tr>\n",
       "      <th>min</th>\n",
       "      <td>3.300000</td>\n",
       "      <td>1.500000e+03</td>\n",
       "      <td>1.000000</td>\n",
       "    </tr>\n",
       "    <tr>\n",
       "      <th>25%</th>\n",
       "      <td>4.600000</td>\n",
       "      <td>1.750000e+04</td>\n",
       "      <td>5.000000</td>\n",
       "    </tr>\n",
       "    <tr>\n",
       "      <th>50%</th>\n",
       "      <td>4.700000</td>\n",
       "      <td>4.200000e+04</td>\n",
       "      <td>11.000000</td>\n",
       "    </tr>\n",
       "    <tr>\n",
       "      <th>75%</th>\n",
       "      <td>4.800000</td>\n",
       "      <td>9.950000e+04</td>\n",
       "      <td>22.000000</td>\n",
       "    </tr>\n",
       "    <tr>\n",
       "      <th>max</th>\n",
       "      <td>5.000000</td>\n",
       "      <td>3.200000e+06</td>\n",
       "      <td>59.000000</td>\n",
       "    </tr>\n",
       "  </tbody>\n",
       "</table>\n",
       "</div>"
      ],
      "text/plain": [
       "           rating  students_enrolled  total_nr_of_courses\n",
       "count  891.000000       8.910000e+02           891.000000\n",
       "mean     4.677329       9.055208e+04            16.737374\n",
       "std      0.162225       1.819365e+05            15.506887\n",
       "min      3.300000       1.500000e+03             1.000000\n",
       "25%      4.600000       1.750000e+04             5.000000\n",
       "50%      4.700000       4.200000e+04            11.000000\n",
       "75%      4.800000       9.950000e+04            22.000000\n",
       "max      5.000000       3.200000e+06            59.000000"
      ]
     },
     "execution_count": 11,
     "metadata": {},
     "output_type": "execute_result"
    }
   ],
   "source": [
    "coursera_data.describe()\n",
    "# coursera_data.describe(include='object')"
   ]
  },
  {
   "cell_type": "markdown",
   "metadata": {},
   "source": [
    "Firstly, since there are no null `rating` values, we can see that we have 891 total courses in the dataset. Secondly, the distribution of the `rating` metric might be a bit limited and our interpretation of the results from this rating should take into account the overreaching bias of people rating these courses once they finish them.\n",
    "\n",
    "However, the `students_enrolled` column is harder to understand the distribution of. \n",
    "The `total_nr_of_courses` metric shows quite a variety in how many courses each organization is doing as well.\n",
    "Can we visualize these distributions?"
   ]
  },
  {
   "cell_type": "code",
   "execution_count": 12,
   "metadata": {},
   "outputs": [
    {
     "data": {
      "image/png": "[encoded data removed]",
      "text/plain": [
       "<Figure size 1500x600 with 3 Axes>"
      ]
     },
     "metadata": {},
     "output_type": "display_data"
    }
   ],
   "source": [
    "fig, ax = plt.subplots(1, 3, figsize = (15, 6))\n",
    "\n",
    "fig.suptitle('Boxplots for numeric values', fontsize = 17) # Better name - create titles for each boxplot\n",
    "ax[0].boxplot(coursera_data.rating);\n",
    "ax[0].set_xlabel('rating')\n",
    "ax[0].set_xticks([])\n",
    "ax[0].set_ylabel('Value')\n",
    "ax[1].boxplot(coursera_data.students_enrolled);\n",
    "ax[1].set_xlabel('students_enrolled')\n",
    "ax[1].set_xticks([])\n",
    "ax[1].ticklabel_format(style = 'plain', axis = 'y')\n",
    "ax[2].boxplot(coursera_data.total_nr_of_courses);\n",
    "ax[2].set_xticks([])\n",
    "ax[2].set_xlabel('total_nr_of_courses');"
   ]
  },
  {
   "cell_type": "markdown",
   "metadata": {},
   "source": [
    "From this we can see that the the `rating` value has a limited range of 3.25-5. The `students_enrolled` values are mostly below 1 mil. students. There are some outliers that reach above this 1 mil. threshold. We will discuss what to do with these outliers later. Whereas, the `total_nr_of_courses` metric has the 50% percentile of around 10, with one outlier of an organization creating around 60 courses. \n",
    "\n",
    "What are these outliers?"
   ]
  },
  {
   "cell_type": "code",
   "execution_count": 13,
   "metadata": {},
   "outputs": [
    {
     "name": "stdout",
     "output_type": "stream",
     "text": [
      "The organization that creates the most courses:    ['University of Pennsylvania']\n"
     ]
    },
    {
     "data": {
      "text/html": [
       "<div>\n",
       "<style scoped>\n",
       "    .dataframe tbody tr th:only-of-type {\n",
       "        vertical-align: middle;\n",
       "    }\n",
       "\n",
       "    .dataframe tbody tr th {\n",
       "        vertical-align: top;\n",
       "    }\n",
       "\n",
       "    .dataframe thead th {\n",
       "        text-align: right;\n",
       "    }\n",
       "</style>\n",
       "<table border=\"1\" class=\"dataframe\">\n",
       "  <thead>\n",
       "    <tr style=\"text-align: right;\">\n",
       "      <th></th>\n",
       "      <th>title</th>\n",
       "      <th>organization</th>\n",
       "      <th>certificate_type</th>\n",
       "      <th>rating</th>\n",
       "      <th>difficulty</th>\n",
       "      <th>students_enrolled</th>\n",
       "      <th>official_learning_institution</th>\n",
       "      <th>total_nr_of_courses</th>\n",
       "    </tr>\n",
       "  </thead>\n",
       "  <tbody>\n",
       "    <tr>\n",
       "      <th>2</th>\n",
       "      <td>The Science of Well-Being</td>\n",
       "      <td>Yale University</td>\n",
       "      <td>COURSE</td>\n",
       "      <td>4.9</td>\n",
       "      <td>MIXED</td>\n",
       "      <td>2500000</td>\n",
       "      <td>True</td>\n",
       "      <td>17</td>\n",
       "    </tr>\n",
       "    <tr>\n",
       "      <th>47</th>\n",
       "      <td>Programming for Everybody (Getting Started wit...</td>\n",
       "      <td>University of Michigan</td>\n",
       "      <td>COURSE</td>\n",
       "      <td>4.8</td>\n",
       "      <td>MIXED</td>\n",
       "      <td>1300000</td>\n",
       "      <td>True</td>\n",
       "      <td>41</td>\n",
       "    </tr>\n",
       "    <tr>\n",
       "      <th>3</th>\n",
       "      <td>Python for Everybody</td>\n",
       "      <td>University of Michigan</td>\n",
       "      <td>SPECIALIZATION</td>\n",
       "      <td>4.8</td>\n",
       "      <td>BEGINNER</td>\n",
       "      <td>1500000</td>\n",
       "      <td>True</td>\n",
       "      <td>41</td>\n",
       "    </tr>\n",
       "    <tr>\n",
       "      <th>6</th>\n",
       "      <td>Machine Learning</td>\n",
       "      <td>Stanford University</td>\n",
       "      <td>COURSE</td>\n",
       "      <td>4.9</td>\n",
       "      <td>MIXED</td>\n",
       "      <td>3200000</td>\n",
       "      <td>True</td>\n",
       "      <td>16</td>\n",
       "    </tr>\n",
       "  </tbody>\n",
       "</table>\n",
       "</div>"
      ],
      "text/plain": [
       "                                                title            organization   \n",
       "2                           The Science of Well-Being         Yale University  \\\n",
       "47  Programming for Everybody (Getting Started wit...  University of Michigan   \n",
       "3                                Python for Everybody  University of Michigan   \n",
       "6                                    Machine Learning     Stanford University   \n",
       "\n",
       "   certificate_type  rating difficulty  students_enrolled   \n",
       "2            COURSE     4.9      MIXED            2500000  \\\n",
       "47           COURSE     4.8      MIXED            1300000   \n",
       "3    SPECIALIZATION     4.8   BEGINNER            1500000   \n",
       "6            COURSE     4.9      MIXED            3200000   \n",
       "\n",
       "    official_learning_institution  total_nr_of_courses  \n",
       "2                            True                   17  \n",
       "47                           True                   41  \n",
       "3                            True                   41  \n",
       "6                            True                   16  "
      ]
     },
     "execution_count": 13,
     "metadata": {},
     "output_type": "execute_result"
    }
   ],
   "source": [
    "print(f\"\"\"The organization that creates the most courses:\\\n",
    "    {[*orgs_nr_of_courses.query('total_nr_of_courses > 50').index]}\"\"\")\n",
    "\n",
    "coursera_data.query('students_enrolled > 1000000')"
   ]
  },
  {
   "cell_type": "markdown",
   "metadata": {},
   "source": [
    "Very impressive by the `University of Pennsylvania`. Removing them from the database, however, would be unwise - so we are going to leave these outliers in for now, since they do not show any problematic signs of the data being factually incorrect. Interestingly, the most popular courses, by student number are `COURSES` certification type & `MIXED` difficulty. Maybe some foreshadowing of these value combinations being important factors in the course being able to prosper.\n",
    "\n",
    "P.s.: peep that 2 of these 4 most popular courses teach Python & another specifically targets `Machine Learning` :)"
   ]
  },
  {
   "cell_type": "markdown",
   "metadata": {},
   "source": [
    "***** \n",
    "## Exploratory Data Analysis"
   ]
  },
  {
   "cell_type": "markdown",
   "metadata": {},
   "source": [
    "Now that we have a short list of interesting findings, I believe it is imperative to understand the purpose of this analysis. The purpose of this analysis is to understand what makes courses successful on the Coursera platform? In our case, we will define \"success\" as the number of `students enrolled` in the course, firstly, & the `rating` of the course, secondarily. For `organizations`, the `enrolled students`, average `rating` & number of courses on the platform will define success. \n",
    "\n",
    "Alright, now that we have define what \"success\" looks like, why don't we look at these specific metrics compared by `organization`, `certificate_type`, `difficulty` & `official_learning_institution`? For this, we need an interactive bar chart builder:"
   ]
  },
  {
   "cell_type": "code",
   "execution_count": 14,
   "metadata": {},
   "outputs": [
    {
     "data": {
      "application/vnd.jupyter.widget-view+json": {
       "model_id": "c1d560ec5b6746e488be5e6a3279bba0",
       "version_major": 2,
       "version_minor": 0
      },
      "text/plain": [
       "VBox(children=(interactive(children=(Select(description='Category', options=('organization', 'certificate_type…"
      ]
     },
     "execution_count": 14,
     "metadata": {},
     "output_type": "execute_result"
    }
   ],
   "source": [
    "barplot_columns = ['organization', 'certificate_type' , 'difficulty', 'official_learning_institution']\n",
    "\n",
    "outliers_mask = 'students_enrolled > students_enrolled.quantile(0.996)'\n",
    "outliers = coursera_data.query(outliers_mask)[['title', 'organization']]\n",
    "\n",
    "widget1_bar = widgets.Select(options=barplot_columns,\n",
    "                         value='organization',\n",
    "                         description='Category',\n",
    "                         disabled=False)\n",
    "\n",
    "widget2_bar = widgets.Select(options = ['students_enrolled', 'rating', 'title'],\n",
    "                         value = 'students_enrolled',\n",
    "                         description = 'Value')\n",
    "\n",
    "if widget1_bar.value == 'organization':\n",
    "    widget3_bar = widgets.BoundedIntText(value=10,\n",
    "                         min = 1,\n",
    "                         max = 20,\n",
    "                         description = 'Display',\n",
    "                         disabled=False)\n",
    "\n",
    "widget4_bar_save_figure = widgets.ToggleButton(\n",
    "    value=False,\n",
    "    description='Save Figure',\n",
    "    disabled=False,\n",
    "    button_style='info',\n",
    "    tooltip='Description',\n",
    "    icon=''\n",
    ")\n",
    "\n",
    "widget_5_bar_suffix = widgets.Text(\n",
    "    placeholder='Type something',\n",
    "    description='Suffix:',\n",
    "    disabled=False   \n",
    ")\n",
    "\n",
    "def remove_borders():\n",
    "    for spine in plt.gca().spines.values():\n",
    "        spine.set_visible(False)\n",
    "\n",
    "def get_axis_labels(widget1_value, widget2_value):\n",
    "    axis_labels = [None, None]\n",
    "\n",
    "    if widget1_value == 'organization':\n",
    "        axis_labels[0] =  'Organization'\n",
    "    elif widget1_value == 'certificate_type':\n",
    "        axis_labels[0] = 'Certificate Type'\n",
    "    elif widget1_value == 'difficulty':\n",
    "        axis_labels[0] = 'Difficulty'\n",
    "    else: \n",
    "        axis_labels[0] = 'Official Learning Institution'\n",
    "    \n",
    "    if widget2_value == 'students_enrolled':\n",
    "        axis_labels[1] =  'Total Enrolled Students'\n",
    "    elif widget2_value == 'rating':\n",
    "        axis_labels[1] =  'Average Rating'\n",
    "    else: \n",
    "        axis_labels[1] =  'Nr Of Courses'\n",
    "    \n",
    "    return axis_labels[0], axis_labels[1]\n",
    "    \n",
    "    \n",
    "def create_barplot(widget1_value, widget2_value, widget3_value, w4_save_bool, w5_suffix):\n",
    "    plt.figure(figsize = (12, 6))\n",
    "    grouped_table_by_choice, renamed_widget2_value = get_grouped_table(widget1_value, widget2_value, widget3_value)\n",
    "    bars = sns.barplot(x = grouped_table_by_choice.index, y = grouped_table_by_choice[renamed_widget2_value],\n",
    "                       mouseover = True)\n",
    "    if widget2_value == 'rating' and widget1_value == 'organization':\n",
    "        print(\"\"\"Note: You have chosen to look at the rating & organization,\\n\\\n",
    "        only organizations that had more than 5 courses in the dataset are displayed:\"\"\")\n",
    "    \n",
    "    for bar in bars.patches:\n",
    "\n",
    "        height = bar.get_height()\n",
    "        if widget2_value == 'rating':\n",
    "            dropoff = 0.1\n",
    "            label = f\"{float(height):.2f}\"\n",
    "        elif widget2_value == 'students_enrolled':\n",
    "            dropoff = 225000\n",
    "            label = f\"{int(height/1000)}k\"\n",
    "        else:\n",
    "            dropoff = 2\n",
    "            label = f\"{int(height)}\"\n",
    "        plt.text(bar.get_x() + bar.get_width() / 2,\n",
    "                 dropoff,\n",
    "                 label,\n",
    "                 ha='center', color='w', fontsize=8, fontweight = 'bold')\n",
    "    \n",
    "    remove_borders()\n",
    "    \n",
    "    xlbl, ylbl = get_axis_labels(widget1_value, widget2_value)\n",
    "    plt.xticks(rotation = 90, fontsize = 8)\n",
    "    plt.xlabel(xlbl)\n",
    "    plt.ylabel(ylbl)\n",
    "    plt.title(f'{ylbl} per {xlbl}')\n",
    "    if w4_save_bool and w5_suffix:\n",
    "        plt.savefig(f'barplot_{w5_suffix}', bbox_inches='tight');\n",
    "        print(f\"Figure saved as barplot_{w5_suffix}\")\n",
    "        widget4_bar_save_figure.value = False\n",
    "    plt.show()\n",
    "    \n",
    "\n",
    "interactive_plot = interactive(create_barplot,\n",
    "                               widget1_value = widget1_bar,\n",
    "                               widget2_value = widget2_bar,\n",
    "                               widget3_value = widget3_bar,\n",
    "                               w4_save_bool = widget4_bar_save_figure,\n",
    "                               w5_suffix = widget_5_bar_suffix);\n",
    "\n",
    "widgets.VBox([interactive_plot])"
   ]
  },
  {
   "cell_type": "markdown",
   "metadata": {},
   "source": [
    "From this point on, we will analyse the interesting observations we can extract from the this interactive window.\n",
    "\n",
    "For example, let's look at the Nr of Courses per Organization:"
   ]
  },
  {
   "cell_type": "code",
   "execution_count": 15,
   "metadata": {},
   "outputs": [
    {
     "data": {
      "text/html": [
       "<img src='barplot_courses_orgs.png'/>\n"
      ],
      "text/plain": [
       "<IPython.core.display.HTML object>"
      ]
     },
     "metadata": {},
     "output_type": "display_data"
    }
   ],
   "source": [
    "%%html\n",
    "<img src='barplot_courses_orgs.png'/>"
   ]
  },
  {
   "cell_type": "markdown",
   "metadata": {},
   "source": [
    "Here we can see `University of Pennsylvania` taking the lead in the number of courses, which we have discovered previously. However, it's interesting to see that out of the top 10 organizations by `total_nr_of_courses` out, **8** are official learning institutions, which might make sense in the fact that official learning institutions have built up extensive experience in how to prepare courses of high quality and at a faster pace. Another interesting observation is that the successful organizations, at least according to the `total_nr_of_courses` variable, are pretty eavenly spread out, and not a significant amount of all courses are created by one organization, except for maybe `University of Pennsylvania`. \n",
    "\n",
    "Let's see if we'll see the same organizations when we look at `students_enrolled`:"
   ]
  },
  {
   "cell_type": "code",
   "execution_count": 16,
   "metadata": {},
   "outputs": [
    {
     "data": {
      "text/html": [
       "<img src='barplot_students_top_orgs.png'/>\n"
      ],
      "text/plain": [
       "<IPython.core.display.HTML object>"
      ]
     },
     "metadata": {},
     "output_type": "display_data"
    }
   ],
   "source": [
    "%%html \n",
    "<img src='barplot_students_top_orgs.png'/>"
   ]
  },
  {
   "cell_type": "markdown",
   "metadata": {},
   "source": [
    "Well, this is certainly surprising. Whilst, `University of Pennsylvania` in the number of courses on the platform comfortably beats second place `University of Michigan`, the latter apparently racks in more students. This might indicate them being better in suiting their courses to a specific audience. But the shining stars of this view are definitely `Stanford University` & `Yale University`. Owing to their historic name, they were not part of the top 10 organizations by nr of courses out, but are firmly placed in 3rd and 7th place according to `Total Enrolled Students`. This certainly hints towards some organizations being better at targeting their courses to specific audiences, making less, but more popular courses. Or is it related to higher perceived quality of the courses (aka `rating`)?"
   ]
  },
  {
   "cell_type": "code",
   "execution_count": 17,
   "metadata": {},
   "outputs": [
    {
     "data": {
      "text/html": [
       "<img src='barplot_rating_top_orgs.png'/>\n"
      ],
      "text/plain": [
       "<IPython.core.display.HTML object>"
      ]
     },
     "metadata": {},
     "output_type": "display_data"
    }
   ],
   "source": [
    "%%html \n",
    "<img src='barplot_rating_top_orgs.png'/>"
   ]
  },
  {
   "cell_type": "markdown",
   "metadata": {},
   "source": [
    "Now, this is interesting - in this instance we lose the `Universities of Michigan and Pennsylvania` alltogether. This might hint towards them creating lots of courses, with relatively high popularity but which ultimately receive not great evaluations. However, the main observation is that a lot of the values that are left from the previous visuals are either: `Yale`, `Stanford`, or organizations that have little amount of courses, but high quality courses, which cannot yet fully be taken as an organization that has successfully secured it's market share on the platform. These three options indicate two possible ideas: established market players either **produce less courses, but more high quality ones** or **produce high amounts of courses that are individually of lesser quality.**\n",
    "\n",
    "Here is when we finally see courses from organizations that are not from the US (`Universidad Nacional Autonoma de Mexico`, `Universita Bocconi`, `Universiteit Leiden`, `Macquaire University`) possibly hinting at courses created in other languages than English. \n",
    "\n",
    "Alright, let's dive deeper into the other categorical variables - shall we? E.g. `difficulty`. For more `difficult` courses we could possibly expect a lower enrollment rate and possibly a lower `rating` because of the increased difficulty."
   ]
  },
  {
   "cell_type": "code",
   "execution_count": 18,
   "metadata": {},
   "outputs": [
    {
     "data": {
      "text/html": [
       "<img src='barplot_students_diff.png'/>\n"
      ],
      "text/plain": [
       "<IPython.core.display.HTML object>"
      ]
     },
     "metadata": {},
     "output_type": "display_data"
    }
   ],
   "source": [
    "%%html \n",
    "<img src='barplot_students_diff.png'/>"
   ]
  },
  {
   "cell_type": "markdown",
   "metadata": {},
   "source": [
    "* Add a scatterplot per course to indicate how many courses we have per difficulty."
   ]
  },
  {
   "cell_type": "markdown",
   "metadata": {},
   "source": [
    "This is rather expected - the harder the difficulty, the less we see people enroll in the course, hence the lower enrollment rate. What about the average `rating`?"
   ]
  },
  {
   "cell_type": "code",
   "execution_count": 19,
   "metadata": {},
   "outputs": [
    {
     "data": {
      "text/html": [
       "<img src='barplot_rating_diff.png'/>\n"
      ],
      "text/plain": [
       "<IPython.core.display.HTML object>"
      ]
     },
     "metadata": {},
     "output_type": "display_data"
    }
   ],
   "source": [
    "%%html \n",
    "<img src='barplot_rating_diff.png'/>"
   ]
  },
  {
   "cell_type": "markdown",
   "metadata": {},
   "source": [
    "Alright, there is no significant difference between these average values. However, marginally we can state that the `MIXED` courses were the most well-received by the learner community, coming before `Beginner`, `INTERMEDIATE` & `ADVANCED` courses. Well, not many interesting findings from that - what about splitting the courses by `certificate_types`? "
   ]
  },
  {
   "cell_type": "code",
   "execution_count": 20,
   "metadata": {},
   "outputs": [
    {
     "data": {
      "text/html": [
       "<img src='barplot_students_cert_type.png'/>\n"
      ],
      "text/plain": [
       "<IPython.core.display.HTML object>"
      ]
     },
     "metadata": {},
     "output_type": "display_data"
    }
   ],
   "source": [
    "%%html \n",
    "<img src='barplot_students_cert_type.png'/>"
   ]
  },
  {
   "cell_type": "markdown",
   "metadata": {},
   "source": [
    "Alright, this reflects logic as well, since the `SPECIALIZATION`s & `PROFESSIONAL CERTIFICATE`s are more specialized compared to the general `COURSE`."
   ]
  },
  {
   "cell_type": "code",
   "execution_count": 21,
   "metadata": {},
   "outputs": [
    {
     "data": {
      "text/html": [
       "<img src='barplot_rating_diff.png'/>\n"
      ],
      "text/plain": [
       "<IPython.core.display.HTML object>"
      ]
     },
     "metadata": {},
     "output_type": "display_data"
    }
   ],
   "source": [
    "%%html \n",
    "<img src='barplot_rating_diff.png'/>"
   ]
  },
  {
   "cell_type": "markdown",
   "metadata": {},
   "source": [
    "What about the relationship between these metrics split up by the categorical variables? Let's build a regression graph that can split the data by these categorical variables.\n",
    "\n",
    "Also, notice that when we look at `students_enrolled`, we see those outliers we have previously noted circled in red. For further visualisations, we will be taking these outliers out, just for us to understand the graphs better. "
   ]
  },
  {
   "cell_type": "code",
   "execution_count": 22,
   "metadata": {},
   "outputs": [
    {
     "data": {
      "application/vnd.jupyter.widget-view+json": {
       "model_id": "e36251852b524d87909f3c92bd9ec463",
       "version_major": 2,
       "version_minor": 0
      },
      "text/plain": [
       "VBox(children=(interactive(children=(ToggleButtons(description='Choose the x axis', options=('rating', 'studen…"
      ]
     },
     "execution_count": 22,
     "metadata": {},
     "output_type": "execute_result"
    }
   ],
   "source": [
    "potential_columns = ['certificate_type' ,'difficulty', 'official_learning_institution']\n",
    "\n",
    "numeric_values = ['rating', 'students_enrolled', 'total_nr_of_courses']\n",
    "\n",
    "\n",
    "widget_x = widgets.ToggleButtons(options=numeric_values,\n",
    "                                                    value='rating',\n",
    "                                                    description = 'Choose the x axis')\n",
    "\n",
    "widget_y = widgets.ToggleButtons(options=numeric_values,\n",
    "                                                    value='students_enrolled',\n",
    "                                                    description = 'Choose the y axis')\n",
    "\n",
    "widget1 = widgets.Select(options=potential_columns,\n",
    "                                                    value='certificate_type',\n",
    "                                                    description='Hue Metric',\n",
    "                                                    disabled=False)\n",
    "\n",
    "widget2 = widgets.SelectMultiple(description = 'Value')\n",
    "\n",
    "widget_outliers = widgets.ToggleButton(options=[True, False],\n",
    "                                                    value=False,\n",
    "                                                    description = 'Remove Outliers')\n",
    "\n",
    "widget4_save_figure = widgets.ToggleButton(\n",
    "    value=False,\n",
    "    description='Save Figure',\n",
    "    disabled=False,\n",
    "    button_style='info',\n",
    "    tooltip='Description',\n",
    "    icon=''\n",
    ")\n",
    "\n",
    "widget_5_suffix = widgets.Text(\n",
    "    placeholder='Type something',\n",
    "    description='Suffix:',\n",
    "    disabled=False   \n",
    ")\n",
    "\n",
    "\n",
    "def update_hue_values(widget1_value):\n",
    "\n",
    "    widget2.options = set(coursera_data[widget1_value])\n",
    "    widget2.value = [*set(coursera_data[widget1_value])]\n",
    "\n",
    "\n",
    "def remove_outliers(df, widget_outliers_value):\n",
    "    if widget_outliers_value:\n",
    "        filtered_df = pd.merge(df, outliers, how = 'outer', on = ['title', 'organization'], indicator = True)\n",
    "        filtered_df = filtered_df[filtered_df['_merge'] == 'left_only']\n",
    "        return filtered_df\n",
    "    else: \n",
    "        return df\n",
    "\n",
    "def create_chart(x_value, y_value, widget1_value, widget2_value, \n",
    "                 widget_outliers_value,widget4_save_bool, widget5_suffix):\n",
    "    plt.figure(figsize=(16, 10))\n",
    "    filtered_hue_values = coursera_data[coursera_data[widget1_value].isin(widget2_value)]\n",
    "    filtered_df = remove_outliers(filtered_hue_values, widget_outliers_value)\n",
    "    sns.lmplot(data = filtered_df, x = x_value, y =y_value, hue = widget1_value)\n",
    "    plt.xlabel(x_value)\n",
    "    plt.ylabel(y_value)\n",
    "    plt.title(f'{y_value.capitalize()} per {x_value.capitalize()}')\n",
    "    plt.ticklabel_format(style = 'plain')\n",
    "    plt.xlim([min(filtered_df[x_value]) - 0.1, max(filtered_df[x_value]) + 0.1])\n",
    "    remove_borders()\n",
    "    if not widget_outliers_value:\n",
    "        plt.plot(filtered_df.query(outliers_mask)[x_value], filtered_df.query(outliers_mask)[y_value], 'o', ms=16, mec='r', mfc='none', mew=2);\n",
    "    if widget4_save_bool and widget5_suffix:\n",
    "        plt.savefig(f'regplot_{widget5_suffix}', bbox_inches='tight');\n",
    "        print(f\"Figure saved as regplot_{widget5_suffix}\")\n",
    "        widget4_save_figure.value = False\n",
    "    plt.show()\n",
    "\n",
    "\n",
    "widgets.interactive(update_hue_values, widget1_value = widget1)\n",
    "\n",
    "interactive_plot = interactive(create_chart,\n",
    "                               x_value = widget_x,\n",
    "                               y_value = widget_y, \n",
    "                               widget1_value=widget1,\n",
    "                               widget2_value=widget2,\n",
    "                               widget_outliers_value = widget_outliers,\n",
    "                               widget4_save_bool = widget4_save_figure,\n",
    "                               widget5_suffix = widget_5_suffix\n",
    "                               );\n",
    "\n",
    "widgets.VBox([interactive_plot])"
   ]
  },
  {
   "cell_type": "markdown",
   "metadata": {},
   "source": [
    "* It's better to use swarmplot or stirplot, because rating is categorical and they wouldn't overlap in those charts."
   ]
  },
  {
   "cell_type": "markdown",
   "metadata": {},
   "source": [
    "There are some very interesting insights we can see from the graphs within this section. Since the most important values within the dataset we can use to define a succesfull course are `students_enrolled` & `rating`, let's look at the relationship between the data split by `certificate_type`:"
   ]
  },
  {
   "cell_type": "code",
   "execution_count": 23,
   "metadata": {},
   "outputs": [
    {
     "data": {
      "text/html": [
       "<img src='regplot_st_rtng_cert_type.png'/>\n"
      ],
      "text/plain": [
       "<IPython.core.display.HTML object>"
      ]
     },
     "metadata": {},
     "output_type": "display_data"
    }
   ],
   "source": [
    "%%html\n",
    "<img src='regplot_st_rtng_cert_type.png'/>"
   ]
  },
  {
   "cell_type": "markdown",
   "metadata": {},
   "source": [
    "Interestingly, we can see that the relationship between `rating` & `students_enrolled` for all `certificate types` is quite linear, maybe with a slight incline. This isn't that surprising, because we would expect that the higher the rating, the more people enroll in the course. What is surprising is that this relationship by certificate_type does not seem to have the same intercept - we can see that `PROFESSIONAL CERTIFICATE` courses have generally higher default values for enrolled nr of students at the higher `rating` values compared to the `SPECIALIZATION` and `COURSE` certificate types.\n",
    "\n",
    "Maybe this is a sign that `PROFESSIONAL CERTIFICATE` courses, for their small audience provide high quality and highly specialized courses that receive high rating values. Or this could again be a fault of the data, where the rating is highly skewed to the upper values due to the smaller amount of courses/students enrolled in the course certificate type.\n",
    "What about `Difficulty`? Surely, the harder the course is, the less people we will see enrolled in them? What about the `rating`?"
   ]
  },
  {
   "cell_type": "code",
   "execution_count": 24,
   "metadata": {},
   "outputs": [
    {
     "data": {
      "text/html": [
       "<img src='regplot_st_rating_diff.png'/>\n"
      ],
      "text/plain": [
       "<IPython.core.display.HTML object>"
      ]
     },
     "metadata": {},
     "output_type": "display_data"
    }
   ],
   "source": [
    "%%html\n",
    "<img src='regplot_st_rating_diff.png'/>"
   ]
  },
  {
   "cell_type": "markdown",
   "metadata": {},
   "source": [
    "This is quite a crowded graph. Nevertheless, we can see some interesting findings. For example, the `MIXED` difficulty courses seem to have no relationship between `students_enrolled` & `rating`, since the regression line is practically horizontal. `BEGINNER` courses seemingly display the same relationship. The same can not be said for `INTERMEDIATE` courses, which display a positive relationship between `rating` & `student_enrolled`, meaning for `INTERMEDIATE` courses we can see that the higher the `rating` the more people we see taking the course. However, the `ADVANCED` courses display the opposite relationship - the higher the `rating`, the less people are interested in taking the course. This might be an indication of the course being perceived as \"too difficult\" by some people, once it reaches higher levels of `rating`.\n",
    "\n",
    "Alright, we are finding out some key stuff, let's quickly check if there's a difference in official and non-official learning institution relationship between `rating` and `students_enrolled`:"
   ]
  },
  {
   "cell_type": "code",
   "execution_count": 25,
   "metadata": {},
   "outputs": [
    {
     "data": {
      "text/html": [
       "<img src='regplot_st_rtng_offilearinst.png'/>\n"
      ],
      "text/plain": [
       "<IPython.core.display.HTML object>"
      ]
     },
     "metadata": {},
     "output_type": "display_data"
    }
   ],
   "source": [
    "%%html\n",
    "<img src='regplot_st_rtng_offilearinst.png'/>"
   ]
  },
  {
   "cell_type": "markdown",
   "metadata": {},
   "source": [
    "This is key - `official learning institutions` seem to display a negative trend - the higher, the rating, the less people want to enlist in the course. However, for `non-learning institutions`, the trajectory seems to be completely opposite - the higher the rating, the more people enroll into the course. This is fascinating and can be pointing to so many different inclinations: this might be due to non-learning institutions being able to create more relevant courses at the time, so more people enroll in them to not get left behind, or this might be due to official learning institutions having way too many courses compared to `not-official learning institutions`, so statistically speaking, they will have more chance to get lower rating values from their learners, or maybe due to the discrepancy in nr of courses between the two groups that makes the number of learners spread out for official learning institution as opposed to non-official learning institutions having their specific market share to themselves (e.g. if I were in the market for a course from an official learning institution, I would have loads of them on offer, whereas if I wanted ones from the non-official organizations, I would only have a few options to choose from). \n",
    "\n",
    "Alright, we've analyzed this relationship enough, what about the relationship of `total_nr_of_courses` to `rating`? Similarly to what we discussed earlier, do institutions that create more courses actually have higher ratings?"
   ]
  },
  {
   "cell_type": "code",
   "execution_count": 26,
   "metadata": {},
   "outputs": [
    {
     "data": {
      "text/html": [
       "<img src='regplot_courses_rating_cert_type.png'/>\n"
      ],
      "text/plain": [
       "<IPython.core.display.HTML object>"
      ]
     },
     "metadata": {},
     "output_type": "display_data"
    }
   ],
   "source": [
    "%%html\n",
    "<img src='regplot_courses_rating_cert_type.png'/>"
   ]
  },
  {
   "cell_type": "markdown",
   "metadata": {},
   "source": [
    "Well, the only noteworthy finding from this combination is that organizations creating `PROFESSIONAL CERTIFICATE` courses seem to hit lower ratings the more courses they produce. But then again, this is quite a small sample size, so extracting actionable insights from this would be hard to do. The other `certification_types` seem to have an almost identical relationship between the two variables. \n",
    "\n",
    "Lastly, can we extract something from the relationship `total_nr_of_courses` - `students_enrolled`? Come to think of it, this relationship seems to be the most logical to be positive since there should be a direct correlation between how many courses an organization creates to the amount of people enroll in those courses."
   ]
  },
  {
   "cell_type": "code",
   "execution_count": 27,
   "metadata": {},
   "outputs": [
    {
     "data": {
      "text/html": [
       "<img src='regplot_st_courses_cert.png'/>\n"
      ],
      "text/plain": [
       "<IPython.core.display.HTML object>"
      ]
     },
     "metadata": {},
     "output_type": "display_data"
    }
   ],
   "source": [
    "%%html\n",
    "<img src='regplot_st_courses_cert.png'/>"
   ]
  },
  {
   "cell_type": "markdown",
   "metadata": {},
   "source": [
    "As expected, this makes sense - for all `certificate_types` we see that the more courses an organization creates, the more their courses are popular with learners. This is seemingly especially pronounced for `PROFESSIONAL CERTIFICATE` courses and less pronounced for general `COURSE` certificate type courses. \n",
    "\n",
    "Can the same relationship be seen if we split the data by `difficulty`?"
   ]
  },
  {
   "cell_type": "code",
   "execution_count": 28,
   "metadata": {},
   "outputs": [
    {
     "data": {
      "text/html": [
       "<img src='regplot_st_courses_diff.png'/>\n"
      ],
      "text/plain": [
       "<IPython.core.display.HTML object>"
      ]
     },
     "metadata": {},
     "output_type": "display_data"
    }
   ],
   "source": [
    "%%html\n",
    "<img src='regplot_st_courses_diff.png'/>"
   ]
  },
  {
   "cell_type": "markdown",
   "metadata": {},
   "source": [
    "Short answer - yes. Long answer - whilst we see the same pattern by `difficulty`, it's definitely less pronounced compared to splitting it by `certificate_type`. Similarly, the same non-relationship can be seen if we split the data by `official_learning_institution`"
   ]
  },
  {
   "cell_type": "code",
   "execution_count": 29,
   "metadata": {},
   "outputs": [
    {
     "data": {
      "text/html": [
       "<img src='regplot_st_courses_offilearinst.png'/>\n"
      ],
      "text/plain": [
       "<IPython.core.display.HTML object>"
      ]
     },
     "metadata": {},
     "output_type": "display_data"
    }
   ],
   "source": [
    "%%html\n",
    "<img src='regplot_st_courses_offilearinst.png'/>"
   ]
  },
  {
   "cell_type": "markdown",
   "metadata": {},
   "source": [
    "Alright, seeing we have some interesting observations already when we split it by these different type solely. But what if we have a relationship between these numeric metrics for a certain combination of categorical variables? For that, let's build a Correlation getter. "
   ]
  },
  {
   "cell_type": "code",
   "execution_count": 30,
   "metadata": {},
   "outputs": [
    {
     "data": {
      "application/vnd.jupyter.widget-view+json": {
       "model_id": "166793403af2439fa283fcb0c8247fe1",
       "version_major": 2,
       "version_minor": 0
      },
      "text/plain": [
       "VBox(children=(interactive(children=(ToggleButtons(button_style='info', description='Value 1', options=('ratin…"
      ]
     },
     "execution_count": 30,
     "metadata": {},
     "output_type": "execute_result"
    }
   ],
   "source": [
    "widget_corr_x = widgets.ToggleButtons(options = ['rating', 'students_enrolled', 'total_nr_of_courses'],\n",
    "                                   value = 'rating',\n",
    "                                   description = 'Value 1',\n",
    "                                   disabled = False,\n",
    "                                   button_style = 'info',\n",
    "                                   tooltips = ['Rating', 'Enrolled Nr Of Students',\n",
    "                                               'Total Nr. of Courses'])\n",
    "widget_corr_y = widgets.ToggleButtons(options = ['rating', 'students_enrolled', 'total_nr_of_courses'],\n",
    "                                      value = 'students_enrolled',\n",
    "                                      description = 'Value 2',\n",
    "                                      disabled = False,\n",
    "                                      button_style = 'info')\n",
    "\n",
    "widget_category_1 = widgets.ToggleButtons(options=potential_columns,\n",
    "                                                    value='difficulty',\n",
    "                                                    description = 'Choose the 1st Category')\n",
    "\n",
    "widget_ctgr_1_selection = widgets.Select(options = ['MIXED', 'BEGINNER', 'INTERMEDIATE', 'ADVANCED'],\n",
    "                                         description = 'Value')\n",
    "\n",
    "widget_category_2 = widgets.ToggleButtons(options=potential_columns,\n",
    "                                                    value='official_learning_institution',\n",
    "                                                    description = 'Choose the 2nd Category',\n",
    "                                                    disabled = False)\n",
    "\n",
    "widget_ctgr_2_selection = widgets.Select(description = 'Value')\n",
    "\n",
    "def update_widget_values_ctgr_1(category):\n",
    "    widget_ctgr_1_selection.options = set(coursera_data[category])\n",
    "    widget_ctgr_1_selection.value = [*set(coursera_data[category])][0]\n",
    "    \n",
    "def update_widget_values_ctgr_2(category): \n",
    "    widget_ctgr_2_selection.options = set(coursera_data[category])\n",
    "    widget_ctgr_2_selection.value = [*set(coursera_data[category])][0]\n",
    "\n",
    "def create_corr_shower(x_value, y_value, category_1, category_1_selection, category_2, category_2_selection):\n",
    "\n",
    "    # \"{category_1} == {category_1_selection} & {category_2} == \\\"{category_2_selection}\\\"\"\n",
    "    if category_1 == 'official_learning_institution' and category_2 != 'official_learning_institution':\n",
    "        filtered_df = coursera_data.query(f\"{category_1} == {category_1_selection} & {category_2} == \\\"{category_2_selection}\\\"\")\n",
    "    elif category_1 != 'official_learning_institution' and category_2 == 'official_learning_institution':\n",
    "        filtered_df = coursera_data.query(f\"{category_1} == \\\"{category_1_selection}\\\" & {category_2} == {category_2_selection}\")\n",
    "    elif category_1 == 'official_learning_institution' and category_2 == 'official_learning_institution':\n",
    "        filtered_df = coursera_data.query(f\"{category_1} == {category_1_selection} & {category_2} == {category_2_selection}\")\n",
    "    else:\n",
    "        filtered_df = coursera_data.query(f\"{category_1} == \\\"{category_1_selection}\\\" & {category_2} == \\\"{category_2_selection}\\\"\")\n",
    "    try:\n",
    "        ax = plt.subplots(1, 1, figsize = (2, 2))\n",
    "        remove_borders()\n",
    "        ax[1].set_xticks([])\n",
    "        ax[1].set_yticks([])\n",
    "        ax[1].text(s = f\"\"\"Pearson Correlation: {pearsonr(filtered_df[x_value], filtered_df[y_value])[0]:5f}\\n\n",
    "        P-value: {pearsonr(filtered_df[x_value], filtered_df[y_value])[1]:5f}\"\"\", x = 0.4,y = 0.5, fontsize = 15)\n",
    "    except:\n",
    "        print(\"No Data\")\n",
    "\n",
    "widgets.interactive(update_widget_values_ctgr_1, category = widget_category_1)\n",
    "\n",
    "widgets.interactive(update_widget_values_ctgr_2, category = widget_category_2)\n",
    "\n",
    "\n",
    "interactive_plot = interactive(create_corr_shower,\n",
    "                                   x_value = widget_corr_x,\n",
    "                                   y_value = widget_corr_y,\n",
    "                                   category_1 = widget_category_1,\n",
    "                                   category_1_selection = widget_ctgr_1_selection,\n",
    "                                   category_2 = widget_category_2,\n",
    "                                   category_2_selection = widget_ctgr_2_selection);     \n",
    "widgets.VBox([interactive_plot])       "
   ]
  },
  {
   "cell_type": "markdown",
   "metadata": {},
   "source": [
    "Noteworthy correlations: \n",
    "* `Rating` is positively correlated with `students_enrolled` for `COURSE` & `ADVANCED` courses. (Pearson Correlation: `0.689666`, p-value: `0.039820`)\n",
    "* `Rating` is positively correlated with `students_enrolled` for `PROFESSIONAL CERTIFICATE` & `INTERMEDIATE` courses. (Pearson Correlation: `0.995402`, p-value: `0.061071`)\n",
    "* `Total_nr_of_courses` is slightly positively correlated with `students_enrolled` for `SPECIALIZATION` & `BEGINNER` courses. (Pearson Correlation: `0.269909`, p-value: `0.000130`)\n",
    "* `Rating` is negatively correlated with `total_nr_of_courses` for `PROFESSIONAL CERTIFICATE` & `BEGINNER` courses. (Pearson Correlation: `-0.684030`, p-value: `0.042148`)\n",
    "* `Rating` is slightly positively correlated with `students_enrolled` for `COURSE` & `Non-official learning institutions'` courses. (Pearson Correlation: `0.235479`, p-value: `0.011297`)\n",
    "* `Students_enrolled` is slightly positively correlated with `total_nr_of_courses` for `SPECIALIZATION` & `Non-official learning institutions'` courses. (Pearson Correlation: `0.241919`, p-value: `0.000144`)\n",
    "* `Rating` is slightly negatively correlated with `total_nr_of_courses` for `COURSE` & `Non-official learning institutions'` courses. (Pearson Correlation: `-0.275921`, p-value: `0.002838`)\n",
    "* `Rating` is negatively correlated with `total_nr_of_courses` for `PROFESSIONAL CERTIFICATE` & `Non-official learning institutions'` courses. (Pearson Correlation: `-0.588213`, p-value: `0.073673`)\n",
    "* `Rating` is slightly negatively correlated with `students_enrolled` for `INTERMEDIATE` & `Non-official learning institutions'` courses. (Pearson Correlation: `-0.315438`, p-value: `0.011795`)\n",
    "* `Rating` is negatively correlated with `total_nr_of_courses` for `ADVANCED` & `Non-official learning institutions'` courses. (Pearson Correlation: `-0.737043`, p-value: `0.094628`)\n",
    "* `Rating` is negatively correlated with `total_nr_of_courses` for `BEGINNER` & `Non-official learning institutions'` courses. (Pearson Correlation: `-0.216460`, p-value: `0.038222`)"
   ]
  },
  {
   "cell_type": "markdown",
   "metadata": {},
   "source": [
    "Ok, there's a lot of points of note. However, we can gather some trends from the values: \n",
    "* `Rating` is generally positively correlated with `students_enrolled`, except for `INTERMEDIATE` courses from `Non-official learning institutions`, which displays a slight negative correlation. This is interesting in a sense that at least for `COURSE` & `PROFESSIONAL CERTIFICATE`, `ADVANCED` & `INTERMEDIATE` courses, the higher the rating - the more people attend it.\n",
    "\n",
    "* `Rating` is generally negatively correlated with `total_nr_of_courses` for `Non-official learning institutions`, which displays a negative correlation with all `BEGINNER`, `INTERMEDIATE`, `ADVANCED`, with each harder difficulty's rating being more negatively correlated against nr of enrolled students. This can be a sign that for non-official learning institutions, the higher the difficulty, the higher the rating, the less people will want to attend the course. Or this could be the opposite relationship, where only highly-skilled, highly-enthusiastic about the organization people get to finish the course and thus there is selection bias at play here. The same thing can be said for the courses that have the `COURSE` certificate type.\n",
    "\n",
    "* `Rating` is also negatively correlated with `total_nr_of_courses` for `PROFESSIONAL CERTIFICATE` & `BEGINNER` courses. This can be a sign that for non-official learning institutions more generally, the higher the rating, the less people will have interest in the course.\n",
    "\n",
    "* `Total_nr_of_courses` is only slightly positively correlated with `students_enrolled` for some combination of categories (`SPECIALIZATION`-`BEGINNER`, `SPECIALIZATION`-`Non-official learning institutions'`). Generally, I believe this finding is the most surprising, as we had a hypothesis beforehand that the more courses that an organization creates, the more people enroll in their courses. "
   ]
  },
  {
   "cell_type": "markdown",
   "metadata": {},
   "source": [
    "***** \n",
    "## Conclusions"
   ]
  },
  {
   "cell_type": "markdown",
   "metadata": {},
   "source": [
    "* The success of organizations can be evaluated on three metrics: total number of enrolled students, average course rating & number of courses on the Coursera platform. \n",
    "* On these metrics, the best performers are: `University of Pennsylvania`, `University of Michigan` (for total courses), `Stamford University`, `Yale University` (for average rating). On this, we could suspect that organizations take two separate strategies in increasing their market share on the platform: first is to go for mass (creating as many courses and outputing them out there, with maybe a bit less quality or specificity) (like `University of Pennsylvania or of Michigan`), while the second one is to go for quality (creating less, but more high quality, specialized courses, e.g. Yale or Stamford).\n",
    "* The more successful organizations (ones that have the most market share) are official learning institutions. This might be surprising at first sight, but once you understand that these organizations have long built their brands that are very strong in the learner community and they most likely have much more knowledge on how to create good quality courses as opposed to organizations that are not official learning institutions.  \n",
    "* Continuing on the organization topic, we can see that official learning institutions have a different relationship of course rating & nr of students enrolled - it is very positive, compared to the negative trend of official learning institutions. This means that for higher ratings, the number of student enrolling in the courses becomes larger for non-official learning institutions. For official_learning_institutions, the trend is negative. This could be a sign of people perceiving higher rated courses by official learning institutions to be \"too hard\" and thus not take them. \n",
    "* As for the `difficulty`, the higher the difficulty, the more the relationship between `rating` & `students_enrolled` becomes negative. This can also be an omage to the same problem stated in the previous point. Hence, official learning institutions should be cautious by releasing courses that are on the harder end. \n",
    "* `PROFESSIONAL CERTIFICATE`-releasing organizations lower their total average rating per course, the more courses they create, whereas for all `certificate_types`, the more courses you create, the more total number of students the organization racks in. This is especially pronounced for `PROFESSIONAL CERTIFICATE` courses. \n",
    "* Generally speaking, the higher the `rating`, the higher the amount of `students_enrolled` we see for the courses, except for certain subgroups of the data, e.g. `INTERMEDIATE` courses from non-official learning institutions. This means that organizations should strive for creating higher-rating courses that incentivise people enrolling in the courses. \n",
    "* `Total_nr_of_courses` is only statistically slightly positively correlated with `students_enrolled` for some combination of categories (`SPECIALIZATION`-`BEGINNER`, `SPECIALIZATION`-`Non-official learning institutions'`). This means that the more you create courses, does not necessarily mean that you will have a lot of people enrolling in the courses. Which makes sense - the \n",
    "* Generally, the industry seems to be dominated by a few big companies and it's harder for the others to establish a stable footing in the industry. "
   ]
  },
  {
   "cell_type": "markdown",
   "metadata": {},
   "source": [
    "`Notes:` \n",
    "Split the conclusions into more important conclusions and less important conclusions. "
   ]
  },
  {
   "cell_type": "markdown",
   "metadata": {},
   "source": [
    "***** \n",
    "## Improvement Points"
   ]
  },
  {
   "cell_type": "markdown",
   "metadata": {},
   "source": [
    "Whilst this is quite a comprehensive analysis there are definitely metrics that would boost this analysis if they were included: \n",
    "* `topic` - topic of the course\n",
    "* `length` - length of the track. We could reasonably expect that longer courses are going to receive less student enrollment, but it would be good to check this assumption.\n",
    "* `language` - what is the language of instruction for the course?\n",
    "* `finish_rate` - what is the percentage of students that enrolled in the course that actually finish the course? \n",
    "* `run_time` - when are the courses live? Have they been out for a long time? If yes, we could reasonably expect the course to have more students rather than courses that have been out recently.\n",
    "* `nr_of_assignments` - how many assignments will you have to do to get the certification? The more assignments - the less people will be inclined to enroll in the course.\n",
    "* `nr_of_retries` - how many retries of the course you have before you fail it?\n",
    "* `diff_length_personal_length` - for a bit more deeper analysis, we could look into creating a value for the average difference between how much a person actually spent on the course and what is the lenght of the course. Some people might reflect badly on the rating if they spend way more time than they were lead to believe. \n",
    "\n",
    "With the inclusion of these metrics we would definitely be able to expand the reach of this analysi and maybe be able to provide more actionable insights."
   ]
  },
  {
   "cell_type": "markdown",
   "metadata": {},
   "source": [
    "***** \n",
    "## Appendix"
   ]
  },
  {
   "cell_type": "markdown",
   "metadata": {},
   "source": [
    "For additional possible interest of flicking through the distribution of the data, you can use the visual below, which let's you customize the barplot with what metrics you would like. "
   ]
  },
  {
   "cell_type": "code",
   "execution_count": 31,
   "metadata": {},
   "outputs": [
    {
     "data": {
      "application/vnd.jupyter.widget-view+json": {
       "model_id": "247a38b2278744e79c2a262ecc952bf9",
       "version_major": 2,
       "version_minor": 0
      },
      "text/plain": [
       "VBox(children=(interactive(children=(ToggleButtons(button_style='info', description='Value', options=('rating'…"
      ]
     },
     "execution_count": 31,
     "metadata": {},
     "output_type": "execute_result"
    }
   ],
   "source": [
    "widget_kde = widgets.ToggleButtons(options = ['rating', 'students_enrolled', 'total_nr_of_courses'],\n",
    "                                   description = 'Value',\n",
    "                                   disabled = False,\n",
    "                                   button_style = 'info',\n",
    "                                   tooltips = ['Rating', 'Enrolled Nr Of Students',\n",
    "                                               'Total Nr. of Courses'])\n",
    "\n",
    "\n",
    "widget1_kde = widgets.Select(options=potential_columns,\n",
    "                                                    value='certificate_type',\n",
    "                                                    description='Hue Metric',\n",
    "                                                    disabled=False)\n",
    "\n",
    "widget2_kde = widgets.SelectMultiple(description = 'Hue Value')\n",
    "\n",
    "widget_outliers_kde = widgets.ToggleButton(options=[True, False],\n",
    "                                                    value=False,\n",
    "                                                    description = 'Remove Outliers')\n",
    "\n",
    "\n",
    "widget4_save_kde = widgets.ToggleButton(\n",
    "    value=False,\n",
    "    description='Save Figure',\n",
    "    disabled=False,\n",
    "    button_style='info',\n",
    "    tooltip='Description',\n",
    "    icon='' # (FontAwesome names without the `fa-` prefix)\n",
    ")\n",
    "\n",
    "widget5_suffix_kde = widgets.Text(\n",
    "    placeholder='Type something',\n",
    "    description='Suffix:',\n",
    "    disabled=False   \n",
    ")\n",
    "\n",
    "def update_hue_values_kde(widget1_value):\n",
    "\n",
    "    widget2_kde.options = set(coursera_data[widget1_value])\n",
    "    widget2_kde.value = [*set(coursera_data[widget1_value])]\n",
    "\n",
    "def create_kde_plot(widget_kde_value, widget1_value, widget2_value, widget_outliers_value,\n",
    "                    widget4_save_bool, widget5_suffix):\n",
    "    plt.figure(figsize=(16, 10))\n",
    "    filtered_hue_values = coursera_data[coursera_data[widget1_value].isin(widget2_value)]\n",
    "    filtered_df = remove_outliers(filtered_hue_values, widget_outliers_value)\n",
    "    sns.histplot(data = filtered_df, x = widget_kde_value, hue = widget1_value, kde = True)\n",
    "    plt.xlabel(widget_kde_value)\n",
    "    plt.title(f'{widget_kde_value} by {widget1_value} density plot')\n",
    "    plt.ticklabel_format(style = 'plain')\n",
    "\n",
    "    if widget4_save_bool and widget5_suffix:\n",
    "        plt.savefig(f'kdeplot_{widget5_suffix}', bbox_inches='tight');\n",
    "        print(f\"Figure saved as regplot_{widget5_suffix}\")\n",
    "        widget4_save_kde.value = False\n",
    "    plt.show()\n",
    "\n",
    "widgets.interactive(update_hue_values_kde, widget1_value = widget1_kde)\n",
    "\n",
    "interactive_plot_kde = interactive(create_kde_plot,\n",
    "                                   widget_kde_value = widget_kde, \n",
    "                                   widget1_value=widget1_kde,\n",
    "                                   widget2_value=widget2_kde,\n",
    "                                   widget_outliers_value = widget_outliers_kde,\n",
    "                                   widget4_save_bool = widget4_save_kde,\n",
    "                                   widget5_suffix = widget5_suffix_kde\n",
    "                                   );\n",
    "\n",
    "plot = widgets.VBox([interactive_plot_kde])\n",
    "plot"
   ]
  },
  {
   "cell_type": "markdown",
   "metadata": {},
   "source": [
    "Notes:\n",
    "* plotly is better for interactive\n",
    "* Structure the points a bit better. (long text -> Bullet points)\n",
    "* Make simple graphs\n",
    "* README File -> if no README, then be more explisive\n",
    "* Github doesn't render interactive graphs -> works when explorting to pdf\n",
    "* nb black\n",
    "* Writing dox strings for functions, type hints -> preserve what I already learned\n",
    "* Does plotly work on Github?\n"
   ]
  }
 ],
 "metadata": {
  "kernelspec": {
   "display_name": "Python 3",
   "language": "python",
   "name": "python3"
  },
  "language_info": {
   "codemirror_mode": {
    "name": "ipython",
    "version": 3
   },
   "file_extension": ".py",
   "mimetype": "text/x-python",
   "name": "python",
   "nbconvert_exporter": "python",
   "pygments_lexer": "ipython3",
   "version": "3.11.2"
  }
 },
 "nbformat": 4,
 "nbformat_minor": 2
}
